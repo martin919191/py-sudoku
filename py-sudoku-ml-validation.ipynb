{
 "cells": [
  {
   "cell_type": "markdown",
   "source": [
    "# Sudoku validation model\n",
    "In this notebook, a model is created to validate a Sudoku. Tensoflow is used to create a CNN designed for the mentioned purpose."
   ],
   "metadata": {}
  },
  {
   "cell_type": "markdown",
   "source": [
    "## Imports"
   ],
   "metadata": {}
  },
  {
   "cell_type": "code",
   "execution_count": 2,
   "source": [
    "import copy\n",
    "import os\n",
    "import datetime\n",
    "import _pickle as cPickle\n",
    "from IPython.display import clear_output\n",
    "import random\n",
    "import tensorflow as tf\n",
    "import numpy as np\n",
    "from sklearn.model_selection import train_test_split\n",
    "import pySudoku\n",
    "\n",
    "MODELS_PATH = './models/validation'\n",
    "DATASET_PATH = './dataset/validation'"
   ],
   "outputs": [],
   "metadata": {}
  },
  {
   "cell_type": "markdown",
   "source": [
    "## Loading the dataset\n",
    "\n",
    "Following code is used to load a labeled valid/invalid sudoku dataset, as well as create features and labels variables for train/test/validation."
   ],
   "metadata": {}
  },
  {
   "cell_type": "code",
   "execution_count": 3,
   "source": [
    "train_size = 0.8\n",
    "test_size = 0.5\n",
    "\n",
    "sudoku_dataset = []\n",
    "if os.path.exists(DATASET_PATH):\n",
    "    for filename in os.listdir(DATASET_PATH):\n",
    "        if(filename.endswith('.cPickle')):\n",
    "            input_path = os.path.join(DATASET_PATH, filename)\n",
    "            for sudoku in cPickle.load(open(input_path, 'rb')):\n",
    "                sudoku_dataset.append(sudoku)\n",
    "random.shuffle(sudoku_dataset)\n",
    "\n",
    "# Prepare features and labels arrays\n",
    "x = np.array([np.array(x[0]) for x in sudoku_dataset])/9\n",
    "y = np.array([(1 if x[1] == 1 else 0, 1 if x[1] == 0 else 0)\n",
    "             for x in sudoku_dataset])\n",
    "\n",
    "x_train, x_rem, y_train, y_rem = train_test_split(x, y, train_size=train_size)\n",
    "\n",
    "x_valid, x_test, y_valid, y_test = train_test_split(\n",
    "    x_rem, y_rem, test_size=test_size)\n"
   ],
   "outputs": [],
   "metadata": {}
  },
  {
   "cell_type": "markdown",
   "source": [
    "## Load existing model"
   ],
   "metadata": {}
  },
  {
   "cell_type": "code",
   "execution_count": 4,
   "source": [
    "MODEL_FILENAME = 'sudoku-validation-v1.0.h5'\n",
    "\n",
    "model_path = os.path.join(MODELS_PATH, MODEL_FILENAME)\n",
    "sudoku_model = tf.keras.models.load_model(model_path)\n"
   ],
   "outputs": [
    {
     "output_type": "stream",
     "name": "stdout",
     "text": [
      "Metal device set to: Apple M1\n"
     ]
    },
    {
     "output_type": "stream",
     "name": "stderr",
     "text": [
      "2021-08-19 15:14:04.545097: I tensorflow/core/common_runtime/pluggable_device/pluggable_device_factory.cc:305] Could not identify NUMA node of platform GPU ID 0, defaulting to 0. Your kernel may not have been built with NUMA support.\n",
      "2021-08-19 15:14:04.545183: I tensorflow/core/common_runtime/pluggable_device/pluggable_device_factory.cc:271] Created TensorFlow device (/job:localhost/replica:0/task:0/device:GPU:0 with 0 MB memory) -> physical PluggableDevice (device: 0, name: METAL, pci bus id: <undefined>)\n"
     ]
    }
   ],
   "metadata": {}
  },
  {
   "cell_type": "markdown",
   "source": [
    "## Create the model\n",
    "\n",
    "The model is a CNN that applies filter to a Sudoku to determine whether it is valid or not. After defining the model architecture, it is trained using the dataset loaded on previous steps."
   ],
   "metadata": {}
  },
  {
   "cell_type": "code",
   "execution_count": 5,
   "source": [
    "sudoku_model = tf.keras.models.Sequential()\n",
    "sudoku_model.add(tf.keras.layers.InputLayer(input_shape=(9,9)))\n",
    "sudoku_model.add(tf.keras.layers.Reshape(target_shape=(1,9,9)))\n",
    "\n",
    "sudoku_model.add(tf.keras.layers.Conv2D(filters=9, kernel_size=9, padding='same', activation='relu', input_shape=(1,9,9)))\n",
    "sudoku_model.add(tf.keras.layers.BatchNormalization())\n",
    "sudoku_model.add(tf.keras.layers.LeakyReLU())\n",
    "\n",
    "sudoku_model.add(tf.keras.layers.Conv2D(filters=9, kernel_size=9, padding='same', activation='relu', input_shape=(1,9,9)))\n",
    "sudoku_model.add(tf.keras.layers.BatchNormalization())\n",
    "sudoku_model.add(tf.keras.layers.LeakyReLU())\n",
    "\n",
    "sudoku_model.add(tf.keras.layers.Flatten())\n",
    "sudoku_model.add(tf.keras.layers.Dropout(0.5))\n",
    "sudoku_model.add(tf.keras.layers.Dense(2, activation='softmax'))\n",
    " \n",
    "sudoku_model.compile(optimizer='sgd',\n",
    "                     loss=tf.keras.losses.MeanSquaredError(),\n",
    "                     metrics=['accuracy'])\n",
    "\n",
    "sudoku_model.fit(x, y, batch_size=128, epochs=5, validation_data=(x_valid, y_valid))\n"
   ],
   "outputs": [
    {
     "output_type": "stream",
     "name": "stderr",
     "text": [
      "2021-08-19 15:14:04.827358: I tensorflow/compiler/mlir/mlir_graph_optimization_pass.cc:176] None of the MLIR Optimization Passes are enabled (registered 2)\n",
      "2021-08-19 15:14:04.827521: W tensorflow/core/platform/profile_utils/cpu_utils.cc:128] Failed to get CPU frequency: 0 Hz\n",
      "2021-08-19 15:14:04.945074: I tensorflow/core/grappler/optimizers/custom_graph_optimizer_registry.cc:112] Plugin optimizer for device_type GPU is enabled.\n"
     ]
    },
    {
     "output_type": "stream",
     "name": "stdout",
     "text": [
      "Epoch 1/6\n",
      "1844/1844 [==============================] - ETA: 0s - loss: 0.2157 - accuracy: 0.6394"
     ]
    },
    {
     "output_type": "stream",
     "name": "stderr",
     "text": [
      "2021-08-19 15:14:32.639531: I tensorflow/core/grappler/optimizers/custom_graph_optimizer_registry.cc:112] Plugin optimizer for device_type GPU is enabled.\n"
     ]
    },
    {
     "output_type": "stream",
     "name": "stdout",
     "text": [
      "1844/1844 [==============================] - 29s 16ms/step - loss: 0.2157 - accuracy: 0.6394 - val_loss: 0.5048 - val_accuracy: 0.4878\n",
      "Epoch 2/6\n",
      "1844/1844 [==============================] - 29s 16ms/step - loss: 0.0910 - accuracy: 0.8897 - val_loss: 0.2903 - val_accuracy: 0.4969\n",
      "Epoch 3/6\n",
      "1844/1844 [==============================] - 29s 16ms/step - loss: 0.0403 - accuracy: 0.9557 - val_loss: 0.0379 - val_accuracy: 0.9791\n",
      "Epoch 4/6\n",
      "1844/1844 [==============================] - 29s 16ms/step - loss: 0.0271 - accuracy: 0.9704 - val_loss: 0.0604 - val_accuracy: 0.9849\n",
      "Epoch 5/6\n",
      "1844/1844 [==============================] - 29s 16ms/step - loss: 0.0240 - accuracy: 0.9741 - val_loss: 0.0188 - val_accuracy: 0.9832\n",
      "Epoch 6/6\n",
      "1844/1844 [==============================] - 29s 16ms/step - loss: 0.0180 - accuracy: 0.9808 - val_loss: 0.0102 - val_accuracy: 0.9903\n"
     ]
    },
    {
     "output_type": "execute_result",
     "data": {
      "text/plain": [
       "<tensorflow.python.keras.callbacks.History at 0x290df4b50>"
      ]
     },
     "metadata": {},
     "execution_count": 5
    }
   ],
   "metadata": {}
  },
  {
   "cell_type": "markdown",
   "source": [
    "## Test the model\n",
    "Testing the model using the test dataset."
   ],
   "metadata": {}
  },
  {
   "cell_type": "code",
   "execution_count": 6,
   "source": [
    "result = sudoku_model.evaluate(x=x_test, y=y_test)"
   ],
   "outputs": [
    {
     "output_type": "stream",
     "name": "stdout",
     "text": [
      "738/738 [==============================] - 4s 6ms/step - loss: 0.0116 - accuracy: 0.9881\n"
     ]
    }
   ],
   "metadata": {}
  },
  {
   "cell_type": "markdown",
   "source": [
    "## Use the model to predict a single Sudoku\n",
    "The following lines of code create a new Sudoku, using `PySudoku` library, then predicts whether it's valid or not using the model. As a next step, the valid sudoku is modified to make a repeated value on the first row of the Sudoku (it makes it invalid), then predict again with the model."
   ],
   "metadata": {}
  },
  {
   "cell_type": "code",
   "execution_count": 7,
   "source": [
    "sudoku_tools = pySudoku.PySudoku()\n",
    "\n",
    "brand_new_sudoku = sudoku_tools.get_empty_sudoku()\n",
    "brand_new_sudoku_solved = sudoku_tools.solve_sudoku(brand_new_sudoku)['sudoku']\n",
    "#sudoku_tools.print_sudoku(brand_new_sudoku_solved)\n",
    " \n",
    "# Validate that the brand new Sudoku does not exist in the training dataset\n",
    "print(\"Brand new sudoku exists in dataset:\",\n",
    "      np.array(brand_new_sudoku_solved) in x)\n",
    "# Let normalize the sudoku values dividing by 10 each cell.\n",
    "brand_new_sudoku_solved_normalized = (np.array(brand_new_sudoku_solved)/9).tolist()\n",
    " \n",
    "# Let's try to predict if it's correct...\n",
    "print('Using model to predict if sudoky is valid or not...')\n",
    "prediction = sudoku_model.predict([brand_new_sudoku_solved_normalized])[0]\n",
    "print('Prediction raw:', prediction) \n",
    "print('Prediction result: ', \n",
    "      'Valid' if prediction[0]>prediction[1] else 'Invalid',\n",
    "      'sudoku')\n",
    " \n",
    "print('Making brand new sudoku invalid by duplicating a value...')\n",
    "brand_new_sudoku_solved[0][0]=brand_new_sudoku_solved[0][1]\n",
    "#sudoku_tools.print_sudoku(brand_new_sudoku_solved)\n",
    " \n",
    "# Let normalize the sudoku values again.\n",
    "brand_new_sudoku_solved_normalized = (np.array(brand_new_sudoku_solved)).tolist()\n",
    " \n",
    "# Let's try to predict if it's incorrect...\n",
    "print('Using model to predict if sudoky is valid or not...')\n",
    "prediction = sudoku_model.predict([brand_new_sudoku_solved_normalized])[0]\n",
    "print('Prediction raw:', prediction)\n",
    "print('Prediction result: ', \n",
    "      'Valid' if prediction[0]>prediction[1] else 'Invalid',\n",
    "      'sudoku')"
   ],
   "outputs": [
    {
     "output_type": "stream",
     "name": "stdout",
     "text": [
      "Brand new sudoku exists in dataset: True\n",
      "Using model to predict if sudoky is valid or not...\n",
      "Prediction raw: [0.9178636  0.08213634]\n",
      "Prediction result:  Valid sudoku\n",
      "Making brand new sudoku invalid by duplicating a value...\n",
      "Using model to predict if sudoky is valid or not...\n",
      "Prediction raw: [0. 1.]\n",
      "Prediction result:  Invalid sudoku\n"
     ]
    },
    {
     "output_type": "stream",
     "name": "stderr",
     "text": [
      "2021-08-19 15:17:04.380655: I tensorflow/core/grappler/optimizers/custom_graph_optimizer_registry.cc:112] Plugin optimizer for device_type GPU is enabled.\n",
      "2021-08-19 15:17:04.428127: I tensorflow/core/grappler/optimizers/custom_graph_optimizer_registry.cc:112] Plugin optimizer for device_type GPU is enabled.\n"
     ]
    }
   ],
   "metadata": {}
  }
 ],
 "metadata": {
  "orig_nbformat": 4,
  "language_info": {
   "name": "python",
   "version": "3.9.6",
   "mimetype": "text/x-python",
   "codemirror_mode": {
    "name": "ipython",
    "version": 3
   },
   "pygments_lexer": "ipython3",
   "nbconvert_exporter": "python",
   "file_extension": ".py"
  },
  "kernelspec": {
   "name": "python3",
   "display_name": "Python 3.9.6 64-bit ('base': conda)"
  },
  "interpreter": {
   "hash": "ec787312c3d263f43c2d94eaa69e11374598573fd88dee47c46efaa69cbfe464"
  }
 },
 "nbformat": 4,
 "nbformat_minor": 2
}