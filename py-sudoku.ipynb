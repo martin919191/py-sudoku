{
  "nbformat": 4,
  "nbformat_minor": 0,
  "metadata": {
    "colab": {
      "name": "pySudoku - WORKING.ipynb",
      "provenance": [],
      "collapsed_sections": [
        "9u3kBCUWMUyV",
        "Duih5wxmSXTQ",
        "1v32fxigYxe_",
        "_feTfNqzGLhD"
      ],
      "toc_visible": true,
      "authorship_tag": "ABX9TyNdKnkj6EsWFomxejnP5sNA"
    },
    "kernelspec": {
      "name": "python3",
      "display_name": "Python 3"
    },
    "language_info": {
      "name": "python"
    }
  },
  "cells": [
    {
      "cell_type": "markdown",
      "metadata": {
        "id": "zxL7nH1YjMy-"
      },
      "source": [
        "# pySudoku\n",
        "\n",
        "This notebook contains a set of functions implemented to solve a Sudoku matrix, following the rules of the game. The algorithm implements a recursive approach to solve complex games, where multiple cells have more than one possible value.\n",
        "\n",
        "This is an initial version of this algorithm, this means it can be improved in many ways, as no optimization has yet be performed upon the scripts.\n",
        "\n",
        "**v1.0**\n",
        "\n",
        "\n",
        "*   Base set of auxiliary functions.\n",
        "*   Initial approach of a solve function, which implements an iterative approach when there are cells with only one possible value, and recursive approach when all cells have multiple possible values.\n",
        "*   Test with three sudoku matrices of different difficulties.\n",
        "*   Test with an empty matrix - Proves solve function can be used for creating brand new matrices.\n",
        "\n"
      ]
    },
    {
      "cell_type": "markdown",
      "metadata": {
        "id": "1TN8yo4XJv7d"
      },
      "source": [
        "## Global imports"
      ]
    },
    {
      "cell_type": "code",
      "metadata": {
        "id": "6NWBRm51w5xQ"
      },
      "source": [
        "import random\n",
        "import copy"
      ],
      "execution_count": 1,
      "outputs": []
    },
    {
      "cell_type": "markdown",
      "metadata": {
        "id": "9u3kBCUWMUyV"
      },
      "source": [
        "## Sudoku solving code"
      ]
    },
    {
      "cell_type": "markdown",
      "metadata": {
        "id": "Duih5wxmSXTQ"
      },
      "source": [
        "### Auxiliary functions\n"
      ]
    },
    {
      "cell_type": "markdown",
      "metadata": {
        "id": "kbkGllaVYJ-T"
      },
      "source": [
        "**`get_columns(sudoku)`** - Receives a sudoku and returns an array with each of the columns it has. Technically speaking, basically trasposes the sudoku matrix of shape 9x9. \n",
        "\n",
        "**`get_sub_matices(sudoku)`** - Receives a sudoku matrix, and returns a matrix of shape 9x9, where each main element contains the values of each sub-matrix.\n",
        "\n",
        "**`print_sudoku(sudoku)`** - Receives a 9x9 matrix representing a sudoku, and prints it in a fancy way.\n",
        "\n",
        "**`get_empty_sudoku()`** - Returns a 9x9 matrix representing a Sudoku, with all it's elements set as None."
      ]
    },
    {
      "cell_type": "code",
      "metadata": {
        "id": "7OpSmssLWUmb"
      },
      "source": [
        "def get_columns(sudoku):\n",
        "  columns = [[],[],[],[],[],[],[],[],[]]\n",
        "  for row in sudoku:\n",
        "    columns[0] = columns[0] + [row[0]]\n",
        "    columns[1] = columns[1] + [row[1]]\n",
        "    columns[2] = columns[2] + [row[2]]\n",
        "    columns[3] = columns[3] + [row[3]]\n",
        "    columns[4] = columns[4] + [row[4]]\n",
        "    columns[5] = columns[5] + [row[5]]\n",
        "    columns[6] = columns[6] + [row[6]]\n",
        "    columns[7] = columns[7] + [row[7]]\n",
        "    columns[8] = columns[8] + [row[8]]\n",
        "  return columns\n",
        "\n",
        "def get_sub_matices(sudoku):\n",
        "  sub_matrices = []\n",
        "  for i in [0,3,6]:\n",
        "    for j in [0,3,6]:\n",
        "      sub_matrices.append([sudoku[i][j],\n",
        "                         sudoku[i][j+1],\n",
        "                         sudoku[i][j+2],\n",
        "                         sudoku[i+1][j],\n",
        "                         sudoku[i+1][j+1],\n",
        "                         sudoku[i+1][j+2],\n",
        "                         sudoku[i+2][j],\n",
        "                         sudoku[i+2][j+1],\n",
        "                         sudoku[i+2][j+2]])\n",
        "  return sub_matrices\n",
        "\n",
        "def print_sudoku(sudoku):\n",
        "  rows_string = []\n",
        "  for row in range(9):\n",
        "    row_string = \"│\"\n",
        "    for column in range(9):\n",
        "      if column == 3 or column == 6:\n",
        "        row_string += \"│\"\n",
        "      if sudoku[row][column] is None:\n",
        "        row_string += ' * '\n",
        "      else:\n",
        "        row_string += ' {} '.format(sudoku[row][column])\n",
        "    row_string += '│'\n",
        "    rows_string.append(row_string)\n",
        " \n",
        "  sudoku_string = \"\"\"\n",
        "  ┌─────────┬─────────┬─────────┐\n",
        "  {}\n",
        "  {}\n",
        "  {}\n",
        "  ├─────────┼─────────┼─────────┤\n",
        "  {}\n",
        "  {}\n",
        "  {}\n",
        "  ├─────────┼─────────┼─────────┤\n",
        "  {}\n",
        "  {}\n",
        "  {}\n",
        "  └─────────┴─────────┴─────────┘\n",
        "  \"\"\".format(rows_string[0],rows_string[1],rows_string[2],\n",
        "             rows_string[3],rows_string[4],rows_string[5],\n",
        "             rows_string[6],rows_string[7],rows_string[8])\n",
        "  print(sudoku_string)\n",
        "\n",
        "def get_empty_sudoku():\n",
        "  empty_sudoku = [[None,None,None,None,None,None,None,None,None],\n",
        "              [None,None,None,None,None,None,None,None,None],\n",
        "              [None,None,None,None,None,None,None,None,None],\n",
        "              [None,None,None,None,None,None,None,None,None],\n",
        "              [None,None,None,None,None,None,None,None,None],\n",
        "              [None,None,None,None,None,None,None,None,None],\n",
        "              [None,None,None,None,None,None,None,None,None],\n",
        "              [None,None,None,None,None,None,None,None,None],\n",
        "              [None,None,None,None,None,None,None,None,None]]\n",
        "  return empty_sudoku"
      ],
      "execution_count": 2,
      "outputs": []
    },
    {
      "cell_type": "markdown",
      "metadata": {
        "id": "vVp7BTuGX6ou"
      },
      "source": [
        "**`validate_repeated_values(array)`** - Receives an array and returns `True` or `False` \n",
        "  if a value inside the array is repeated"
      ]
    },
    {
      "cell_type": "code",
      "metadata": {
        "id": "MdsF8gzfXIJb"
      },
      "source": [
        "def validate_repeated_values(array):\n",
        "  '''Receives an array and returns True or False \n",
        "  if a value inside the array is repeated'''\n",
        "  repeated = False\n",
        "  elements = {}\n",
        "  for element in array:\n",
        "    if element is not None:\n",
        "      if element in elements.keys():\n",
        "        repeated = True\n",
        "        break\n",
        "      else:\n",
        "        elements[element] = None\n",
        "  return repeated"
      ],
      "execution_count": 3,
      "outputs": []
    },
    {
      "cell_type": "markdown",
      "metadata": {
        "id": "EshSfHowYFEE"
      },
      "source": [
        "**`is_valid_sudoku(sudoku)`** - Returns `True` if a sudoku matrix is valid. Otherwise, returns `False`. A valid sudoku will be any sudoku where values are not repeated within the same row, column or sub-matrix, and there are no cells where no value can be placed."
      ]
    },
    {
      "cell_type": "code",
      "metadata": {
        "id": "iTRNitNTXHBj"
      },
      "source": [
        "def is_valid_sudoku(sudoku):\n",
        "  '''Returns if a sudoku is valid or not. Wether a sudoku is valid or not\n",
        "  is defined on the repetition of values in a row, column or sub matrix. \n",
        "  Repeated values = not valid (false)\n",
        "  No repeated values = valid (true)\n",
        "  '''\n",
        "  for row in sudoku:\n",
        "    repeated_values = (validate_repeated_values(row))\n",
        "    if repeated_values:\n",
        "      return False\n",
        "  columns = get_columns(sudoku)\n",
        "  for column in columns:\n",
        "    repeated_values = (validate_repeated_values(column))\n",
        "    if repeated_values:\n",
        "      return False\n",
        "  return True\n",
        "  sub_matrices = get_sub_matrices(sudoku)\n",
        "  for sub_matrix in sub_matrices:\n",
        "    repeated_values = (validate_repeated_values(sub_matrix))\n",
        "    if repeated_values:\n",
        "      return False\n",
        "  return True"
      ],
      "execution_count": 4,
      "outputs": []
    },
    {
      "cell_type": "markdown",
      "metadata": {
        "id": "h6Rb5CccYkrT"
      },
      "source": [
        "**`get_empty_cells(sudoku)`** - Receives a 9x9 matrix representing a Sudoku and returns an object containing all the empty cells (cells in the Sudoku matrix with `None` value) and it's possible values. The object returned will have the following form:\n",
        "\n",
        "```\n",
        "{\n",
        "  'single_values'      : [],\n",
        "  'multiple_values'    : [],\n",
        "  'no_possible_values' : True|False\n",
        "}\n",
        "```\n",
        "The key `'single_values'` references an array with containing all empty cells where only one value can be placed.\n",
        "The key `'multiple_values'` references an array with containing all empty cells where multiple values can be placed.\n",
        "The key `'no_possible_values'` is a Boolean variable which is set to `True` when a cell has no possible values (this means the Sudoku is incorrect). If all cells can have either one or multiple values, `'no_possible_values'` will be `False`.\n",
        "\n",
        "Each empty cell in the array of single or multiple values, will be formed by a tuple with three elements: `(row_index, col_index, [POSSIBLE_VALUES])`"
      ]
    },
    {
      "cell_type": "code",
      "metadata": {
        "id": "FnaJ143yXZXo"
      },
      "source": [
        "def get_empty_cells(sudoku):\n",
        "  sub_matrices = get_sub_matices(sudoku)\n",
        "  columns      = get_columns(sudoku)\n",
        "  empty_cells  = {'single_value'       : [],\n",
        "                  'multiple_values'    : [],\n",
        "                  'no_possible_values' : False}\n",
        "\n",
        "  for row_index in range(len(sudoku)):\n",
        "    row = sudoku[row_index]\n",
        "    for col_index in range(len(row)):\n",
        "      if sudoku[row_index][col_index] == None:\n",
        "        possible_values = get_possible_values(row_index,\n",
        "                                              col_index,\n",
        "                                              sudoku,\n",
        "                                              columns,\n",
        "                                              sub_matrices)\n",
        "        if 'single_value' in possible_values.keys():\n",
        "          empty_cells['single_value'].append((row_index,\n",
        "                                                col_index,\n",
        "                                                possible_values['single_value']\n",
        "          ))\n",
        "        elif 'no_possible_values' in possible_values.keys():\n",
        "          empty_cells['no_possible_values'] = True\n",
        "        else:\n",
        "          empty_cells['multiple_values'].append((row_index,\n",
        "                                                col_index,\n",
        "                                                possible_values['multiple_values']\n",
        "          ))\n",
        "  empty_cells['multiple_values'].sort(key=lambda x: len(x[2]))\n",
        "  return empty_cells\n",
        "\n",
        "def get_possible_values(row_index, col_index, rows, columns, sub_matrices):\n",
        "  possible_values = [1,2,3,4,5,6,7,8,9]\n",
        "  sub_matrix_index = int(row_index/3) * 3 + int(col_index/3)\n",
        "  for i in range(9):\n",
        "    row_value        = rows[row_index][i]\n",
        "    col_value        = columns[col_index][i]\n",
        "    sub_matrix_value = sub_matrices[sub_matrix_index][i]\n",
        "    if row_value is not None and row_value in possible_values:\n",
        "      possible_values.remove(row_value)\n",
        "    if col_value is not None and col_value in possible_values:\n",
        "      possible_values.remove(col_value)\n",
        "    if sub_matrix_value is not None and sub_matrix_value in possible_values:\n",
        "      possible_values.remove(sub_matrix_value)\n",
        "  if len(possible_values) == 0:\n",
        "    return {'no_possible_values' : True}\n",
        "  elif len(possible_values) == 1:\n",
        "    return {'single_value' : possible_values}\n",
        "  else:\n",
        "    random.shuffle(possible_values)\n",
        "    return {'multiple_values' : possible_values}"
      ],
      "execution_count": 5,
      "outputs": []
    },
    {
      "cell_type": "code",
      "metadata": {
        "id": "A4CwRqLoYeyV"
      },
      "source": [
        "def fill_single_value_cells(sudoku, empty_cells):\n",
        "  for empty_cell in empty_cells:\n",
        "    row   = empty_cell[0]\n",
        "    col   = empty_cell[1]\n",
        "    value = empty_cell[2][0]\n",
        "    sudoku[row][col] = value"
      ],
      "execution_count": 6,
      "outputs": []
    },
    {
      "cell_type": "markdown",
      "metadata": {
        "id": "1v32fxigYxe_"
      },
      "source": [
        "### Main solve functions"
      ]
    },
    {
      "cell_type": "code",
      "metadata": {
        "id": "uCVS4ZpPMYtK"
      },
      "source": [
        "def solve_sudoku(unsolved_sudoku, recursion_level = 0): \n",
        "  sudoku = copy.deepcopy(unsolved_sudoku)\n",
        "  if not is_valid_sudoku(sudoku):\n",
        "    return {'status': 'fail'}\n",
        "  else:\n",
        "    empty_cells = get_empty_cells(sudoku)\n",
        "    if empty_cells['no_possible_values'] :\n",
        "      return {'status': 'fail'}\n",
        "    while len(empty_cells['single_value']) > 0:\n",
        "      fill_single_value_cells(sudoku, empty_cells['single_value'])\n",
        "      empty_cells = get_empty_cells(sudoku)\n",
        "  ### BELOW THIS LINE, THERE IS TERROR ###\n",
        "  still_unsolved = False\n",
        "  if len(empty_cells['multiple_values'])>0:  \n",
        "    #for empty_cell in empty_cells['multiple_values']:\n",
        "      empty_cell_to_fill = empty_cells['multiple_values'][0]\n",
        "      row_to_fill        = empty_cell_to_fill[0]\n",
        "      col_to_fill        = empty_cell_to_fill[1]\n",
        "      values_to_try      = empty_cell_to_fill[2]\n",
        "      for value in values_to_try:\n",
        "        sudoku_copy = copy.deepcopy(sudoku)\n",
        "        sudoku_copy[row_to_fill][col_to_fill] = value\n",
        "        result = solve_sudoku(sudoku_copy, recursion_level=recursion_level+1)\n",
        "        if result['status'] is not 'fail':\n",
        "          return result\n",
        "  else:  \n",
        "    ### ABOVE THIS LINE, THERE IS TERROR ###\n",
        "    if not is_valid_sudoku(sudoku):\n",
        "      return {'status': 'fail'}\n",
        "    else:\n",
        "      return{'status'          : 'OK',\n",
        "             'sudoku'          : sudoku,\n",
        "             'recursion_level' : recursion_level}\n",
        "  return {'status': 'fail'}\n",
        "\n"
      ],
      "execution_count": 7,
      "outputs": []
    },
    {
      "cell_type": "markdown",
      "metadata": {
        "id": "TB4LFduPhHYa"
      },
      "source": [
        "## Tests"
      ]
    },
    {
      "cell_type": "markdown",
      "metadata": {
        "id": "yH23JPah31aH"
      },
      "source": [
        "### Test solve function"
      ]
    },
    {
      "cell_type": "markdown",
      "metadata": {
        "id": "-zEqSCX-iD3P"
      },
      "source": [
        "#### Easy sudoku"
      ]
    },
    {
      "cell_type": "code",
      "metadata": {
        "id": "Lujv5e393nnR"
      },
      "source": [
        "# sudoku = get_empty_sudoku()\n",
        "sudoku_easy = [\n",
        "          [None, None, None, None, 6   , 5   , 2   , None, 3   ],\n",
        "          [None, None, None, 3   , 4   , 9   , 8   , None, None],\n",
        "          [None, 5   , None, None, None, 8   , None, None, None],\n",
        "          [3   , 7   , None, None, 2   , 4   , None, None, None],\n",
        "          [None, 6   , None, None, None, 3   , 7   , None, None],\n",
        "          [5   , None, None, None, 1   , None, None, None, 8   ],\n",
        "          [None, 3   , None, 5   , None, None, 6   , 7   , 2   ],\n",
        "          [None, None, None, None, 3   , 2   , 9   , None, 4   ],\n",
        "          [7   , None, None, 4   , 8   , None, 5   , None, None]\n",
        "] # EASY ONE\n",
        "\n",
        "print('Solving an easy one...')\n",
        "solved_easy = solve_sudoku(sudoku_easy)\n",
        "if solved_easy['status']=='OK':\n",
        "  solved_sudoku = solved_easy['sudoku']\n",
        "  print(f\"It is valid! Recursion depth required: {solved_easy['recursion_level']}\" if is_valid_sudoku(solved_sudoku) else 'It is not valid...')\n",
        "  print_sudoku(solved_sudoku)\n",
        "else:\n",
        "  print('FAIL')\n"
      ],
      "execution_count": null,
      "outputs": []
    },
    {
      "cell_type": "markdown",
      "metadata": {
        "id": "uluOympOiLKj"
      },
      "source": [
        "#### Hard sudoku"
      ]
    },
    {
      "cell_type": "code",
      "metadata": {
        "id": "lY8A6sePiNRI"
      },
      "source": [
        "sudoku_hard = [\n",
        "          [None, 7   , None, None, None, 8   , None, 6   , 3   ],\n",
        "          [9   , None, None, None, 5   , None, 2   , None, None],\n",
        "          [None, None, 1   , None, 2   , None, 7   , None, None],\n",
        "          [None, None, None, 4   , None, None, None, None, None],\n",
        "          [8   , None, 7   , None, None, 6   , None, None, None],\n",
        "          [6   , 1   , None, None, None, None, None, None, None],\n",
        "          [None, None, None, 1   , None, 3   , 5   , 9   , None],\n",
        "          [7   , None, None, None, None, 2   , 8   , None, None],\n",
        "          [None, None, 5   , None, None, None, None, None, 6   ]\n",
        "] # HARD ONE\n",
        "\n",
        "print('Solving a hard one...')\n",
        "solved_hard = solve_sudoku(sudoku_hard)\n",
        "if solved_hard['status']=='OK':\n",
        "  solved_sudoku = solved_hard['sudoku']\n",
        "  print(f\"It is valid! Recursion depth required: {solved_hard['recursion_level']}\" if is_valid_sudoku(solved_sudoku) else 'It is not valid...')\n",
        "  print_sudoku(solved_sudoku)\n",
        "else:\n",
        "  print('FAIL')\n"
      ],
      "execution_count": null,
      "outputs": []
    },
    {
      "cell_type": "markdown",
      "metadata": {
        "id": "Ec42o3QniSbt"
      },
      "source": [
        "#### Extreme sudoku"
      ]
    },
    {
      "cell_type": "code",
      "metadata": {
        "id": "oGV82h1DiVH0"
      },
      "source": [
        "sudoku_extreme = [\n",
        "          [None, None, 6   , 7   , None, None, None, None, None],\n",
        "          [None, 1   , None, None, 5   , None, None, 8   , 6   ],\n",
        "          [3   , None, None, None, None, 6   , None, None, None],\n",
        "          [6   , None, None, None, 1   , None, None, None, 2   ],\n",
        "          [1   , 5   , 9   , None, None, 4   , None, None, None],\n",
        "          [None, None, None, None, None, None, 8   , None, None],\n",
        "          [None, None, None, 8   , None, None, None, None, 7   ],\n",
        "          [None, None, None, None, None, None, 3   , None, None],\n",
        "          [None, 2   , 1   , 6   , None, None, 9   , None, None]\n",
        "] # EXTREME\n",
        "\n",
        "print('Solving an extreme sudoku...')\n",
        "solved_extreme = solve_sudoku(sudoku_extreme)\n",
        "if solved_extreme['status']=='OK':\n",
        "  solved_sudoku = solved_hard['sudoku']\n",
        "  print(f\"It is valid! Recursion depth required: {solved_extreme['recursion_level']}\" if is_valid_sudoku(solved_sudoku) else 'It is not valid...')\n",
        "  print_sudoku(solved_sudoku)\n",
        "else:\n",
        "  print('FAIL')"
      ],
      "execution_count": null,
      "outputs": []
    },
    {
      "cell_type": "markdown",
      "metadata": {
        "id": "_feTfNqzGLhD"
      },
      "source": [
        "#### Blank sudoku matrix"
      ]
    },
    {
      "cell_type": "code",
      "metadata": {
        "colab": {
          "base_uri": "https://localhost:8080/"
        },
        "id": "8cbap62t2Qyn",
        "outputId": "5389c1ef-8ff8-4e80-8f82-58229c7535cd"
      },
      "source": [
        "empty_sudoku = get_empty_sudoku()\n",
        "print('Creating one from scratch...')\n",
        "solved_from_scratch = solve_sudoku(empty_sudoku)\n",
        "if solved_from_scratch['status']=='OK':\n",
        "  solved_sudoku = solved_from_scratch['sudoku']\n",
        "  print(f\"It is valid! Recursion depth required: {solved_from_scratch['recursion_level']}\" if is_valid_sudoku(solved_sudoku) else 'It is not valid...')\n",
        "  print_sudoku(solved_sudoku)\n",
        "else:\n",
        "  print('FAIL')"
      ],
      "execution_count": 12,
      "outputs": [
        {
          "output_type": "stream",
          "text": [
            "Creating one from scratch...\n",
            "It is valid! Recursion depth required: 50\n",
            "\n",
            "  ┌─────────┬─────────┬─────────┐\n",
            "  │ 3  7  5 │ 8  9  2 │ 1  6  4 │\n",
            "  │ 1  4  2 │ 5  7  6 │ 8  9  3 │\n",
            "  │ 6  9  8 │ 3  4  1 │ 2  5  7 │\n",
            "  ├─────────┼─────────┼─────────┤\n",
            "  │ 8  5  3 │ 1  2  7 │ 6  4  9 │\n",
            "  │ 2  1  4 │ 9  6  5 │ 3  7  8 │\n",
            "  │ 7  6  9 │ 4  8  3 │ 5  2  1 │\n",
            "  ├─────────┼─────────┼─────────┤\n",
            "  │ 9  8  1 │ 2  5  4 │ 7  3  6 │\n",
            "  │ 5  3  6 │ 7  1  9 │ 4  8  2 │\n",
            "  │ 4  2  7 │ 6  3  8 │ 9  1  5 │\n",
            "  └─────────┴─────────┴─────────┘\n",
            "  \n"
          ],
          "name": "stdout"
        }
      ]
    }
  ]
}